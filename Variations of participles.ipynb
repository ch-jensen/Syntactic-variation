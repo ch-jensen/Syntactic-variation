{
 "cells": [
  {
   "cell_type": "markdown",
   "metadata": {},
   "source": [
    "# Exploration of syntactic variations of Biblical Hebrew participles\n",
    "\n",
    "*Chrisitan Højgaard Jensen*\n",
    "\n",
    "This notebook is part of an ongoing research project with the ultimate goal to cluster Biblical Hebrew verbs according to *Aktionsart* (also called situation aspect). It is the contention of this research that the *Aktionsart* of verbs are sometimes explicated by the presence of certain syntactic elements. For instance, Accomplishment verbs may be distinguished from Stative verbs by the appearance of a temporal or locational phrase, referring to a temporal or geographical endpoint of the event described by the verb. Accordingly, it may be possible to identify the *Aktionsart* of specific verbs by clustering the verbs according to significant syntactic entities.\n",
    "\n",
    "This notebook is about participles in the Hebrew Bible. Participles are generally regarded as implying the aspect of duration in contrast to punctuality. This aspect is important to sort out in order to classify Biblical Hebrew verbs according to *Aktionsart*.\n",
    "\n",
    "In this notebook, I will test four hypotheses that occur (frequently) in grammars of Biblical Hebrew:\n",
    "1. Presumed active verbs occur more often as predicative participles than stative verbs\n",
    "2. Stative verbs occur more often as adjectival participles than predicative participles\n",
    "3. Stative verbs occur more often in the sequence subject-participle than in the sequence participle-subject\n",
    "4. Durative and non-punctual verbs occur more often in the constellation היה + ptc. than punctual verbs.\n",
    "\n",
    "**Content:**\n",
    "1. Preparation of data set\n",
    "2. Exploration of the 10 most frequent active participles\n",
    "3. Cluster analysis\n",
    "\n",
    "## 1. Preparation of data set"
   ]
  },
  {
   "cell_type": "code",
   "execution_count": null,
   "metadata": {},
   "outputs": [],
   "source": [
    "repos <- 'http://cran.us.r-project.org'\n",
    "\n",
    "install.packages(\"fpc\", repo = repos)\n",
    "install.packages(\"pvclust\", repo = repos)\n",
    "install.packages(\"devtools\", repo = repos)\n",
    "devtools::install_github(\"kassambara/factoextra\")"
   ]
  },
  {
   "cell_type": "code",
   "execution_count": 2,
   "metadata": {},
   "outputs": [
    {
     "name": "stdout",
     "output_type": "stream",
     "text": [
      "'data.frame':\t9701 obs. of  12 variables:\n",
      " $ node      : int  27 90 187 191 210 216 395 530 586 599 ...\n",
      " $ book      : Factor w/ 39 levels \"1_Chronicles\",..: 15 15 15 15 15 15 15 15 15 15 ...\n",
      " $ chapter   : int  1 1 1 1 1 1 1 1 1 1 ...\n",
      " $ verse     : int  2 6 11 11 12 12 21 26 28 29 ...\n",
      " $ language  : Factor w/ 2 levels \"Aramaic\",\"Hebrew\": 2 2 2 2 2 2 2 2 2 2 ...\n",
      " $ lex       : Factor w/ 906 levels \"<BD[\",\"<BR[\",..: 692 110 897 12 897 12 670 670 670 897 ...\n",
      " $ pred      : Factor w/ 434 levels \"\",\"<BD[\",\"<BR[\",..: 1 151 1 1 1 1 1 1 1 1 ...\n",
      " $ word_order: Factor w/ 11 levels \"ptc\",\"ptc-ptc\",..: 9 1 1 1 1 1 1 1 1 1 ...\n",
      " $ tense     : Factor w/ 2 levels \"ptca\",\"ptcp\": 1 1 1 1 1 1 1 1 1 1 ...\n",
      " $ stem      : Factor w/ 18 levels \"haf\",\"hif\",\"hit\",..: 13 2 2 16 2 16 16 16 16 16 ...\n",
      " $ type      : Factor w/ 4 levels \"adjv\",\"advb\",..: 4 4 4 4 4 4 4 4 4 4 ...\n",
      " $ func      : Factor w/ 13 levels \"Adju\",\"Cmpl\",..: 8 8 8 8 8 8 8 8 8 8 ...\n"
     ]
    },
    {
     "data": {
      "text/html": [
       "<table>\n",
       "<thead><tr><th scope=col>node</th><th scope=col>book</th><th scope=col>chapter</th><th scope=col>verse</th><th scope=col>language</th><th scope=col>lex</th><th scope=col>pred</th><th scope=col>word_order</th><th scope=col>tense</th><th scope=col>stem</th><th scope=col>type</th><th scope=col>func</th></tr></thead>\n",
       "<tbody>\n",
       "\t<tr><td> 27    </td><td>Genesis</td><td>1      </td><td> 2     </td><td>Hebrew </td><td>RXP[   </td><td>       </td><td>S-ptc  </td><td>ptca   </td><td>piel   </td><td>verb   </td><td>PreC   </td></tr>\n",
       "\t<tr><td> 90    </td><td>Genesis</td><td>1      </td><td> 6     </td><td>Hebrew </td><td>BDL[   </td><td>HJH[   </td><td>ptc    </td><td>ptca   </td><td>hif    </td><td>verb   </td><td>PreC   </td></tr>\n",
       "\t<tr><td>187                                          </td><td>Genesis                                      </td><td>1                                            </td><td>11                                           </td><td>Hebrew                                       </td><td>ZR&lt;[                                      </td><td><span style=white-space:pre-wrap>    </span> </td><td><span style=white-space:pre-wrap>ptc  </span></td><td>ptca                                         </td><td>hif                                          </td><td>verb                                         </td><td>PreC                                         </td></tr>\n",
       "\t<tr><td>191                                          </td><td>Genesis                                      </td><td>1                                            </td><td>11                                           </td><td>Hebrew                                       </td><td>&lt;FH[                                      </td><td><span style=white-space:pre-wrap>    </span> </td><td><span style=white-space:pre-wrap>ptc  </span></td><td>ptca                                         </td><td>qal                                          </td><td>verb                                         </td><td>PreC                                         </td></tr>\n",
       "\t<tr><td>210                                          </td><td>Genesis                                      </td><td>1                                            </td><td>12                                           </td><td>Hebrew                                       </td><td>ZR&lt;[                                      </td><td><span style=white-space:pre-wrap>    </span> </td><td><span style=white-space:pre-wrap>ptc  </span></td><td>ptca                                         </td><td>hif                                          </td><td>verb                                         </td><td>PreC                                         </td></tr>\n",
       "\t<tr><td>216                                          </td><td>Genesis                                      </td><td>1                                            </td><td>12                                           </td><td>Hebrew                                       </td><td>&lt;FH[                                      </td><td><span style=white-space:pre-wrap>    </span> </td><td><span style=white-space:pre-wrap>ptc  </span></td><td>ptca                                         </td><td>qal                                          </td><td>verb                                         </td><td>PreC                                         </td></tr>\n",
       "</tbody>\n",
       "</table>\n"
      ],
      "text/latex": [
       "\\begin{tabular}{r|llllllllllll}\n",
       " node & book & chapter & verse & language & lex & pred & word\\_order & tense & stem & type & func\\\\\n",
       "\\hline\n",
       "\t  27     & Genesis & 1       &  2      & Hebrew  & RXP{[}  &         & S-ptc   & ptca    & piel    & verb    & PreC   \\\\\n",
       "\t  90     & Genesis & 1       &  6      & Hebrew  & BDL{[}  & HJH{[}  & ptc     & ptca    & hif     & verb    & PreC   \\\\\n",
       "\t 187     & Genesis & 1       & 11      & Hebrew  & ZR<{[}  &         & ptc     & ptca    & hif     & verb    & PreC   \\\\\n",
       "\t 191     & Genesis & 1       & 11      & Hebrew  & <FH{[}  &         & ptc     & ptca    & qal     & verb    & PreC   \\\\\n",
       "\t 210     & Genesis & 1       & 12      & Hebrew  & ZR<{[}  &         & ptc     & ptca    & hif     & verb    & PreC   \\\\\n",
       "\t 216     & Genesis & 1       & 12      & Hebrew  & <FH{[}  &         & ptc     & ptca    & qal     & verb    & PreC   \\\\\n",
       "\\end{tabular}\n"
      ],
      "text/markdown": [
       "\n",
       "node | book | chapter | verse | language | lex | pred | word_order | tense | stem | type | func | \n",
       "|---|---|---|---|---|---|\n",
       "|  27     | Genesis | 1       |  2      | Hebrew  | RXP[    |         | S-ptc   | ptca    | piel    | verb    | PreC    | \n",
       "|  90     | Genesis | 1       |  6      | Hebrew  | BDL[    | HJH[    | ptc     | ptca    | hif     | verb    | PreC    | \n",
       "| 187     | Genesis | 1       | 11      | Hebrew  | ZR<[    |         | ptc     | ptca    | hif     | verb    | PreC    | \n",
       "| 191     | Genesis | 1       | 11      | Hebrew  | <FH[    |         | ptc     | ptca    | qal     | verb    | PreC    | \n",
       "| 210     | Genesis | 1       | 12      | Hebrew  | ZR<[    |         | ptc     | ptca    | hif     | verb    | PreC    | \n",
       "| 216     | Genesis | 1       | 12      | Hebrew  | <FH[    |         | ptc     | ptca    | qal     | verb    | PreC    | \n",
       "\n",
       "\n"
      ],
      "text/plain": [
       "  node book    chapter verse language lex  pred word_order tense stem type func\n",
       "1  27  Genesis 1        2    Hebrew   RXP[      S-ptc      ptca  piel verb PreC\n",
       "2  90  Genesis 1        6    Hebrew   BDL[ HJH[ ptc        ptca  hif  verb PreC\n",
       "3 187  Genesis 1       11    Hebrew   ZR<[      ptc        ptca  hif  verb PreC\n",
       "4 191  Genesis 1       11    Hebrew   <FH[      ptc        ptca  qal  verb PreC\n",
       "5 210  Genesis 1       12    Hebrew   ZR<[      ptc        ptca  hif  verb PreC\n",
       "6 216  Genesis 1       12    Hebrew   <FH[      ptc        ptca  qal  verb PreC"
      ]
     },
     "metadata": {},
     "output_type": "display_data"
    }
   ],
   "source": [
    "data <- read.csv(\"participles.csv\", header = TRUE)\n",
    "\n",
    "str(data)\n",
    "head(data)"
   ]
  },
  {
   "cell_type": "markdown",
   "metadata": {},
   "source": [
    "Adding a genre category:"
   ]
  },
  {
   "cell_type": "code",
   "execution_count": 3,
   "metadata": {
    "collapsed": true
   },
   "outputs": [],
   "source": [
    "prose <- c('Genesis', 'Exodus', 'Leviticus', 'Numbers', 'Deuteronomy', 'Joshua', 'Judges', '1_Samuel', '2_Samuel', \n",
    "           '1_Kings', '2_Kings', 'Jonah', 'Ruth', 'Esther', 'Daniel', 'Ezra', 'Nehemiah', '1_Chronicles', '2_Chronicles')\n",
    "poetry <- c('Psalms', 'Job', 'Proverbs', 'Song_of_songs', 'Ecclesiastes', 'Lamentations')\n",
    "\n",
    "data$genre <- ifelse(data$book %in% prose, 'prose',\n",
    "                   ifelse(data$book %in% poetry, 'poetry','prophecy'))"
   ]
  },
  {
   "cell_type": "markdown",
   "metadata": {},
   "source": [
    "Stripping last [ of lexemes:"
   ]
  },
  {
   "cell_type": "code",
   "execution_count": 4,
   "metadata": {
    "collapsed": true
   },
   "outputs": [],
   "source": [
    "data$lex <- substr(data$lex,1,nchar(as.character(data$lex))-1)\n",
    "data$pred <- substr(data$pred,1,nchar(as.character(data$pred))-1)"
   ]
  },
  {
   "cell_type": "code",
   "execution_count": 5,
   "metadata": {},
   "outputs": [
    {
     "name": "stdout",
     "output_type": "stream",
     "text": [
      "'data.frame':\t9701 obs. of  13 variables:\n",
      " $ node      : int  27 90 187 191 210 216 395 530 586 599 ...\n",
      " $ book      : Factor w/ 39 levels \"1_Chronicles\",..: 15 15 15 15 15 15 15 15 15 15 ...\n",
      " $ chapter   : int  1 1 1 1 1 1 1 1 1 1 ...\n",
      " $ verse     : int  2 6 11 11 12 12 21 26 28 29 ...\n",
      " $ language  : Factor w/ 2 levels \"Aramaic\",\"Hebrew\": 2 2 2 2 2 2 2 2 2 2 ...\n",
      " $ lex       : chr  \"RXP\" \"BDL\" \"ZR<\" \"<FH\" ...\n",
      " $ pred      : chr  \"\" \"HJH\" \"\" \"\" ...\n",
      " $ word_order: Factor w/ 11 levels \"ptc\",\"ptc-ptc\",..: 9 1 1 1 1 1 1 1 1 1 ...\n",
      " $ tense     : Factor w/ 2 levels \"ptca\",\"ptcp\": 1 1 1 1 1 1 1 1 1 1 ...\n",
      " $ stem      : Factor w/ 18 levels \"haf\",\"hif\",\"hit\",..: 13 2 2 16 2 16 16 16 16 16 ...\n",
      " $ type      : Factor w/ 4 levels \"adjv\",\"advb\",..: 4 4 4 4 4 4 4 4 4 4 ...\n",
      " $ func      : Factor w/ 13 levels \"Adju\",\"Cmpl\",..: 8 8 8 8 8 8 8 8 8 8 ...\n",
      " $ genre     : chr  \"prose\" \"prose\" \"prose\" \"prose\" ...\n"
     ]
    }
   ],
   "source": [
    "str(data)"
   ]
  },
  {
   "cell_type": "markdown",
   "metadata": {},
   "source": [
    "### 1.1 Overview of the data"
   ]
  },
  {
   "cell_type": "markdown",
   "metadata": {},
   "source": [
    "There is no simple relationship between participle types and function. Predicative participles occur only as PreC (predicate complement) and PtcO (participle with suffixed object), whereas substantival and adjectival particples occur with many different syntactic functions."
   ]
  },
  {
   "cell_type": "code",
   "execution_count": 6,
   "metadata": {},
   "outputs": [
    {
     "data": {
      "text/plain": [
       "      \n",
       "       Adju Cmpl Frnt Loca Modi Objc PrAd PreC PreO PtcO Subj Time Voct\n",
       "  adjv   79   80   11    8    0  157   45  297    0    0  105    3    5\n",
       "  advb    0    0    0    0    3    1    0    0    0    0    0    0    0\n",
       "  subs  268  603   42   13    2  627    5  456    3    0 1127    5   92\n",
       "  verb    0    0    0    0    0    0    0 5501    0  163    0    0    0"
      ]
     },
     "metadata": {},
     "output_type": "display_data"
    }
   ],
   "source": [
    "table(data$type,data$func)"
   ]
  },
  {
   "cell_type": "code",
   "execution_count": 7,
   "metadata": {},
   "outputs": [
    {
     "data": {
      "text/plain": [
       "\n",
       "adjv advb subs verb \n",
       " 790    4 3243 5664 "
      ]
     },
     "metadata": {},
     "output_type": "display_data"
    }
   ],
   "source": [
    "#Type:\n",
    "table(data$type)"
   ]
  },
  {
   "cell_type": "code",
   "execution_count": 8,
   "metadata": {},
   "outputs": [
    {
     "data": {
      "text/plain": [
       "\n",
       "            ptc         ptc-ptc     ptc-ptc-ptc ptc-ptc-ptc-ptc       ptc-ptc-S \n",
       "           4909             364              48              12              20 \n",
       "          ptc-S       ptc-S-ptc               S           S-ptc       S-ptc-ptc \n",
       "            558              14            1136            2490             138 \n",
       "  S-ptc-ptc-ptc \n",
       "             12 "
      ]
     },
     "metadata": {},
     "output_type": "display_data"
    }
   ],
   "source": [
    "#Word order:\n",
    "table(data$word_order)"
   ]
  },
  {
   "cell_type": "code",
   "execution_count": 9,
   "metadata": {},
   "outputs": [
    {
     "data": {
      "text/plain": [
       "\n",
       "Aramaic  Hebrew \n",
       "    306    9395 "
      ]
     },
     "metadata": {},
     "output_type": "display_data"
    }
   ],
   "source": [
    "#Language:\n",
    "table(data$language)"
   ]
  },
  {
   "cell_type": "markdown",
   "metadata": {},
   "source": [
    "### 1.2 Trimming data set\n",
    "\n",
    "The data set is trimmed for infrequent values, since those values have very little significant as regards major trends in the data. Moreover, only the Hebrew part of the Hebrew Bible is taken into account here, so the participles from the Aramaic part are stripped."
   ]
  },
  {
   "cell_type": "code",
   "execution_count": 10,
   "metadata": {
    "collapsed": true
   },
   "outputs": [],
   "source": [
    "#Excluding Aramaic:\n",
    "data2 <- droplevels(data[data$language == \"Hebrew\",])\n",
    "\n",
    "#Excluding infrequent constellations\n",
    "freq_min <- 100\n",
    "\n",
    "for (i in 8:12){ #The loop runs through columns 8-12\n",
    "    var.data.frame <- as.data.frame(table(data2[,i])) #The column is transformed, first, into a table and, then, a dataframe.\n",
    "    retain.levels <- var.data.frame[which(var.data.frame$Freq > freq_min),] #A subset of values occuring more than 100\n",
    "                                                                            #times is created\n",
    "    data2 <- data2[data2[,i] %in% retain.levels$Var1, ] #The data-set is trimmed according to the subset created above.\n",
    "    data2 <- droplevels(data2)\n",
    "}"
   ]
  },
  {
   "cell_type": "code",
   "execution_count": 11,
   "metadata": {},
   "outputs": [
    {
     "name": "stdout",
     "output_type": "stream",
     "text": [
      "'data.frame':\t9036 obs. of  13 variables:\n",
      " $ node      : int  27 90 187 191 210 216 395 530 586 599 ...\n",
      " $ book      : Factor w/ 39 levels \"1_Chronicles\",..: 15 15 15 15 15 15 15 15 15 15 ...\n",
      " $ chapter   : int  1 1 1 1 1 1 1 1 1 1 ...\n",
      " $ verse     : int  2 6 11 11 12 12 21 26 28 29 ...\n",
      " $ language  : Factor w/ 1 level \"Hebrew\": 1 1 1 1 1 1 1 1 1 1 ...\n",
      " $ lex       : chr  \"RXP\" \"BDL\" \"ZR<\" \"<FH\" ...\n",
      " $ pred      : chr  \"\" \"HJH\" \"\" \"\" ...\n",
      " $ word_order: Factor w/ 6 levels \"ptc\",\"ptc-ptc\",..: 5 1 1 1 1 1 1 1 1 1 ...\n",
      " $ tense     : Factor w/ 2 levels \"ptca\",\"ptcp\": 1 1 1 1 1 1 1 1 1 1 ...\n",
      " $ stem      : Factor w/ 7 levels \"hif\",\"hit\",\"hof\",..: 5 1 1 7 1 7 7 7 7 7 ...\n",
      " $ type      : Factor w/ 3 levels \"adjv\",\"subs\",..: 3 3 3 3 3 3 3 3 3 3 ...\n",
      " $ func      : Factor w/ 6 levels \"Adju\",\"Cmpl\",..: 4 4 4 4 4 4 4 4 4 4 ...\n",
      " $ genre     : chr  \"prose\" \"prose\" \"prose\" \"prose\" ...\n"
     ]
    }
   ],
   "source": [
    "str(data2)"
   ]
  },
  {
   "cell_type": "code",
   "execution_count": 12,
   "metadata": {},
   "outputs": [
    {
     "data": {
      "text/plain": [
       "      \n",
       "       Adju Cmpl Objc PreC PtcO Subj\n",
       "  adjv   74   69  152  270    0  103\n",
       "  subs  260  571  600  452    0 1120\n",
       "  verb    0    0    0 5202  163    0"
      ]
     },
     "metadata": {},
     "output_type": "display_data"
    }
   ],
   "source": [
    "table(data2$type,data2$func)"
   ]
  },
  {
   "cell_type": "markdown",
   "metadata": {},
   "source": [
    "## 2. Exploration of the 10 most frequent participles\n",
    "\n",
    "The procedure of the explorative analysis of this notebook is, first, to observe trends among the 10 most frequent participles which account for 2059 instances. Secondly, a larger number of lexemes is included."
   ]
  },
  {
   "cell_type": "code",
   "execution_count": 13,
   "metadata": {
    "scrolled": true
   },
   "outputs": [
    {
     "data": {
      "text/html": [
       "<table>\n",
       "<thead><tr><th></th><th scope=col>Var1</th><th scope=col>Freq</th></tr></thead>\n",
       "<tbody>\n",
       "\t<tr><th scope=row>308</th><td>JCB</td><td>466</td></tr>\n",
       "\t<tr><th scope=row>128</th><td>BW&gt;</td><td>283   </td></tr>\n",
       "\t<tr><th scope=row>63</th><td>&gt;JB</td><td>271   </td></tr>\n",
       "\t<tr><th scope=row>10</th><td>&lt;FH</td><td>254   </td></tr>\n",
       "\t<tr><th scope=row>290</th><td>HLK</td><td>172</td></tr>\n",
       "\t<tr><th scope=row>336</th><td>JY&gt;</td><td>145   </td></tr>\n",
       "\t<tr><th scope=row>486</th><td>NTN</td><td>126</td></tr>\n",
       "\t<tr><th scope=row>366</th><td>KTB</td><td>119</td></tr>\n",
       "\t<tr><th scope=row>19</th><td>&lt;MD</td><td>118   </td></tr>\n",
       "\t<tr><th scope=row>457</th><td>NF&gt;</td><td>105   </td></tr>\n",
       "</tbody>\n",
       "</table>\n"
      ],
      "text/latex": [
       "\\begin{tabular}{r|ll}\n",
       "  & Var1 & Freq\\\\\n",
       "\\hline\n",
       "\t308 & JCB & 466\\\\\n",
       "\t128 & BW> & 283\\\\\n",
       "\t63 & >JB & 271\\\\\n",
       "\t10 & <FH & 254\\\\\n",
       "\t290 & HLK & 172\\\\\n",
       "\t336 & JY> & 145\\\\\n",
       "\t486 & NTN & 126\\\\\n",
       "\t366 & KTB & 119\\\\\n",
       "\t19 & <MD & 118\\\\\n",
       "\t457 & NF> & 105\\\\\n",
       "\\end{tabular}\n"
      ],
      "text/markdown": [
       "\n",
       "| <!--/--> | Var1 | Freq | \n",
       "|---|---|---|---|---|---|---|---|---|---|\n",
       "| 308 | JCB | 466 | \n",
       "| 128 | BW> | 283 | \n",
       "| 63 | >JB | 271 | \n",
       "| 10 | <FH | 254 | \n",
       "| 290 | HLK | 172 | \n",
       "| 336 | JY> | 145 | \n",
       "| 486 | NTN | 126 | \n",
       "| 366 | KTB | 119 | \n",
       "| 19 | <MD | 118 | \n",
       "| 457 | NF> | 105 | \n",
       "\n",
       "\n"
      ],
      "text/plain": [
       "    Var1 Freq\n",
       "308 JCB  466 \n",
       "128 BW>  283 \n",
       "63  >JB  271 \n",
       "10  <FH  254 \n",
       "290 HLK  172 \n",
       "336 JY>  145 \n",
       "486 NTN  126 \n",
       "366 KTB  119 \n",
       "19  <MD  118 \n",
       "457 NF>  105 "
      ]
     },
     "metadata": {},
     "output_type": "display_data"
    }
   ],
   "source": [
    "top.lexemes <- 10\n",
    "\n",
    "lex <- as.data.frame(table(data2$lex))\n",
    "lex <- lex[order(- lex$Freq),] \n",
    "\n",
    "top.lex <- droplevels(lex[1:top.lexemes,])\n",
    "top.lex"
   ]
  },
  {
   "cell_type": "code",
   "execution_count": 14,
   "metadata": {},
   "outputs": [
    {
     "name": "stdout",
     "output_type": "stream",
     "text": [
      "'data.frame':\t2059 obs. of  13 variables:\n",
      " $ node      : int  191 216 865 935 1321 2011 2916 3355 4209 4250 ...\n",
      " $ book      : Factor w/ 38 levels \"1_Chronicles\",..: 15 15 15 15 15 15 15 15 15 15 ...\n",
      " $ chapter   : int  1 1 2 2 3 4 6 7 9 9 ...\n",
      " $ verse     : int  11 12 10 14 8 20 17 16 10 12 ...\n",
      " $ language  : Factor w/ 1 level \"Hebrew\": 1 1 1 1 1 1 1 1 1 1 ...\n",
      " $ lex       : chr  \"<FH\" \"<FH\" \"JY>\" \"HLK\" ...\n",
      " $ pred      : chr  \"\" \"\" \"\" \"\" ...\n",
      " $ word_order: Factor w/ 6 levels \"ptc\",\"ptc-ptc\",..: 1 1 5 1 1 5 1 1 1 5 ...\n",
      " $ tense     : Factor w/ 2 levels \"ptca\",\"ptcp\": 1 1 1 1 1 1 1 1 1 1 ...\n",
      " $ stem      : Factor w/ 6 levels \"hif\",\"hit\",\"hof\",..: 6 6 6 6 2 6 1 6 6 6 ...\n",
      " $ type      : Factor w/ 3 levels \"adjv\",\"subs\",..: 3 3 3 3 3 2 3 3 3 3 ...\n",
      " $ func      : Factor w/ 6 levels \"Adju\",\"Cmpl\",..: 4 4 4 4 4 4 4 4 4 4 ...\n",
      " $ genre     : chr  \"prose\" \"prose\" \"prose\" \"prose\" ...\n"
     ]
    }
   ],
   "source": [
    "data.top10 <- droplevels(data2[data2$lex %in% top.lex$Var1, ])\n",
    "str(data.top10)"
   ]
  },
  {
   "cell_type": "markdown",
   "metadata": {},
   "source": [
    "### 2.1 Top-10 lexemes in relation to participle type"
   ]
  },
  {
   "cell_type": "code",
   "execution_count": 15,
   "metadata": {},
   "outputs": [
    {
     "name": "stderr",
     "output_type": "stream",
     "text": [
      "Warning message:\n",
      "\"package 'vcd' was built under R version 3.4.2\"Loading required package: grid\n"
     ]
    }
   ],
   "source": [
    "library(\"vcd\");"
   ]
  },
  {
   "cell_type": "markdown",
   "metadata": {},
   "source": [
    "Only active participles in *Qal* are included:"
   ]
  },
  {
   "cell_type": "code",
   "execution_count": 16,
   "metadata": {
    "scrolled": true
   },
   "outputs": [
    {
     "data": {
      "text/html": [
       "<table>\n",
       "<tbody>\n",
       "\t<tr><td>Number of top-10 participles in Qal:</td><td>1767                                </td></tr>\n",
       "</tbody>\n",
       "</table>\n"
      ],
      "text/latex": [
       "\\begin{tabular}{ll}\n",
       "\t Number of top-10 participles in Qal: & 1767                                \\\\\n",
       "\\end{tabular}\n"
      ],
      "text/markdown": [
       "\n",
       "| Number of top-10 participles in Qal: | 1767                                 | \n",
       "\n",
       "\n"
      ],
      "text/plain": [
       "     [,1]                                 [,2]\n",
       "[1,] Number of top-10 participles in Qal: 1767"
      ]
     },
     "metadata": {},
     "output_type": "display_data"
    }
   ],
   "source": [
    "top10.qal <- droplevels(data.top10[data.top10$stem == \"qal\" & data.top10$tense == \"ptca\",])\n",
    "matrix(c(\"Number of top-10 participles in Qal:\",nrow(top10.qal)), 1)"
   ]
  },
  {
   "cell_type": "markdown",
   "metadata": {},
   "source": [
    "An associate plot is created to compare the relative distribution of adjectival, substantival and predicate participles:"
   ]
  },
  {
   "cell_type": "code",
   "execution_count": 17,
   "metadata": {},
   "outputs": [
    {
     "data": {
      "image/png": "[encoded data removed]",
      "text/plain": [
       "plot without title"
      ]
     },
     "metadata": {},
     "output_type": "display_data"
    }
   ],
   "source": [
    "lex.type <- structable(top10.qal$lex,top10.qal$type)\n",
    "\n",
    "assoc(lex.type, split_vertical = F, gp = shading_Friendly, legend = legend_fixed, sub = \"Mosaic plot: Lexemes and type\",\n",
    "      labeling_args = list(set_varnames = c(A = \"Lexeme\", B = \"Type\")))"
   ]
  },
  {
   "cell_type": "markdown",
   "metadata": {},
   "source": [
    "It is evident that the verbs איב \"be hostile\" (>JB) and ישׁב \"sit/dwell\" (JCB), and to a lesser extent נשׂא \"to carry\" (NF>) differ remarkably from the other verbs in that they occur far less as verbs. This is interesting, since איב and ישׁב are expected to be stative verbs.\n",
    "\n",
    "This tendency justifies a closer look at the relative distribution of participle type among a larger quantity of lexemes."
   ]
  },
  {
   "cell_type": "markdown",
   "metadata": {},
   "source": [
    "### 2.2 All participles occuring 19+ times in relation to participle type"
   ]
  },
  {
   "cell_type": "code",
   "execution_count": 18,
   "metadata": {
    "collapsed": true
   },
   "outputs": [],
   "source": [
    "min.freq <- 20\n",
    "\n",
    "lex <- as.data.frame(table(data2$lex))\n",
    "lex <- lex[order(- lex$Freq),]\n",
    "\n",
    "top.lex <- droplevels(lex[lex$Freq >= min.freq,])\n",
    "\n",
    "data.top.lex <- droplevels(data2[data2$lex %in% top.lex$Var1,])"
   ]
  },
  {
   "cell_type": "code",
   "execution_count": 19,
   "metadata": {
    "scrolled": true
   },
   "outputs": [
    {
     "data": {
      "text/plain": [
       "\n",
       " <BD  <BR  <FH  <LH  <MD  <ZB  <ZR  >HB  >JB  >KL  >MN  >MR  >RB  >RR  BGD  BJN \n",
       "  29  100  254   83  118   28   23   76  271   68   41   99   22   50   21   47 \n",
       " BLL  BNH  BQC  BRK  BVX  BW>  BXR  C>R  CDD  CJR  CKB  CKN  CLX  CM<  CMM  CMR \n",
       "  38   32   61   80   33  283   25   44   22   47   29   20   56   77   27   99 \n",
       " CPV  CRT  CVR  CWB  CXT  CZR  DBR  DRC  FJM  FKL  FN>  G>L  GWR  HLK  J<Y  JC< \n",
       "  67   42   25   38   20   21   83   23   20   21   76   47   33  172   31   33 \n",
       " JCB  JD<  JLD  JR>  JRD  JTR  JY>  JYR  KBD  KSH  KTB  KWN  LXM  MCL  ML>  MWT \n",
       " 466   95   55   58   47   51  145   24   24   25  119   39   24   41   52  100 \n",
       " MY>  NB>  NF>  NG<  NGD  NKH  NPL  NTN  NVH  NYB  NYL  NYX  P<L  PL>  PNH  PQD \n",
       "  54   39  105   46   20   44   42  126   43   45   20   60   27   46   23   93 \n",
       " QDC  QR>  QVR  QWM  R<H  R>H  RDP  RKB  RWC  RWM  RWY  RYX  XCB  XLH  XTN  XZQ \n",
       "  24   41   21   34   97   85   41   37   22   36   32   34   28   24   22   25 \n",
       " YPH YRR=  YWH  ZBX  ZNH  ZWB \n",
       "  27   20   45   31   39   33 "
      ]
     },
     "metadata": {},
     "output_type": "display_data"
    }
   ],
   "source": [
    "table(data.top.lex$lex)"
   ]
  },
  {
   "cell_type": "markdown",
   "metadata": {},
   "source": [
    "Again, only active participles in *qal* are included:"
   ]
  },
  {
   "cell_type": "code",
   "execution_count": 20,
   "metadata": {
    "collapsed": true
   },
   "outputs": [],
   "source": [
    "data.top.lex.qal <- droplevels(data.top.lex[data.top.lex$stem == \"qal\" & data.top.lex$tense == \"ptca\",])"
   ]
  },
  {
   "cell_type": "markdown",
   "metadata": {},
   "source": [
    "A table containing the proportions of participle types for each particle is made:"
   ]
  },
  {
   "cell_type": "code",
   "execution_count": 21,
   "metadata": {
    "scrolled": false
   },
   "outputs": [
    {
     "data": {
      "text/plain": [
       "     \n",
       "             adjv        subs        verb\n",
       "  <BD 0.035714286 0.500000000 0.464285714\n",
       "  <BR 0.082474227 0.237113402 0.680412371\n",
       "  <FH 0.004291845 0.248927039 0.746781116\n",
       "  <LH 0.018518519 0.055555556 0.925925926\n",
       "  <MD 0.008620690 0.025862069 0.965517241"
      ]
     },
     "metadata": {},
     "output_type": "display_data"
    }
   ],
   "source": [
    "data2.lex.type <- table(data.top.lex.qal$lex,data.top.lex.qal$type)\n",
    "\n",
    "type.prop <- prop.table(data2.lex.type, 1)\n",
    "type.prop[1:5,]"
   ]
  },
  {
   "cell_type": "markdown",
   "metadata": {},
   "source": [
    "The table is first sorted according to the proportions of verb and adjective, respectively, and, secondly, plottet in a barplot:"
   ]
  },
  {
   "cell_type": "code",
   "execution_count": 22,
   "metadata": {},
   "outputs": [
    {
     "data": {
      "image/png": "[encoded data removed]",
      "text/plain": [
       "Plot with title \"Proportions of participle types\""
      ]
     },
     "metadata": {},
     "output_type": "display_data"
    }
   ],
   "source": [
    "type.prop.order <- type.prop[order(-type.prop[,3],-type.prop[,1]),]\n",
    "\n",
    "plot(type.prop.order, las=2, main=\"Proportions of participle types\", cex.axis = 0.5,\n",
    "     col = c(\"yellow\",\"blue\",\"red\"))"
   ]
  },
  {
   "cell_type": "markdown",
   "metadata": {},
   "source": [
    "The barplot supports the earlier observations that dynamic verbs tend to occur as predicate particles (e.g. שׁים, נגע) while presumably stative verbs like שׁמם, חלה occur more often as adjectives. The same distribution is plotted in the graph below:"
   ]
  },
  {
   "cell_type": "code",
   "execution_count": 23,
   "metadata": {},
   "outputs": [
    {
     "data": {
      "image/png": "[encoded data removed]",
      "text/plain": [
       "Plot with title \"Proportions of participle types\""
      ]
     },
     "metadata": {},
     "output_type": "display_data"
    }
   ],
   "source": [
    "verb.order <- type.prop[order(-type.prop[,3]),]\n",
    "\n",
    "plot(verb.order[,3], type = \"l\",ylim = c(0:1), lwd = \"2\", xlim = c(1,79),\n",
    "     main = \"Proportions of participle types\", ylab = \"Proportion\", xlab = \"Lexeme\", axes = FALSE)\n",
    "lines(verb.order[,1], col = \"darkgrey\", lty=2)\n",
    "legend(60, 0.95, legend=c(\"verb\",\"adjective\"), col=c(\"black\",\"darkgrey\"), lty=c(1,2), lwd=c(2,1), cex=0.8)\n",
    "axis(1, at = seq(1,nrow(verb.order)), labels = rownames(verb.order), las=2, cex.axis = 0.5)\n",
    "axis(2, at=seq(0, 1, by=0.1), cex.axis = 0.8)"
   ]
  },
  {
   "cell_type": "markdown",
   "metadata": {},
   "source": [
    "### 2.3 Word order of predicative participles\n",
    "\n",
    "Now the hypothesis that stative verbs occur more often in the sequence subject-particple than vice versa will be tested. First the data set is trimmed, so it only contains predicative participles with an explicit subject in the sequence \"participle-subject\" or \"subject-participle\"."
   ]
  },
  {
   "cell_type": "code",
   "execution_count": 24,
   "metadata": {},
   "outputs": [
    {
     "data": {
      "text/html": [
       "2074"
      ],
      "text/latex": [
       "2074"
      ],
      "text/markdown": [
       "2074"
      ],
      "text/plain": [
       "[1] 2074"
      ]
     },
     "metadata": {},
     "output_type": "display_data"
    }
   ],
   "source": [
    "data.pred.wo <- droplevels(data2[data2$type == \"verb\" & data2$word_order %in% c(\"ptc-S\",\"S-ptc\"),])\n",
    "nrow(data.pred.wo)"
   ]
  },
  {
   "cell_type": "markdown",
   "metadata": {},
   "source": [
    "More lexemes are included here to have enough lexemes to compare:"
   ]
  },
  {
   "cell_type": "code",
   "execution_count": 25,
   "metadata": {},
   "outputs": [
    {
     "data": {
      "text/plain": [
       "\n",
       "ptc-S S-ptc \n",
       "  187  1128 "
      ]
     },
     "metadata": {},
     "output_type": "display_data"
    }
   ],
   "source": [
    "min.freq <- 8\n",
    "\n",
    "lex <- as.data.frame(table(data.pred.wo$lex))\n",
    "lex <- lex[order(- lex$Freq),]\n",
    "\n",
    "top.lex <- droplevels(lex[lex$Freq >= min.freq,])\n",
    "\n",
    "pred.wo.top.lex <- droplevels(data.pred.wo[data.pred.wo$lex %in% top.lex$Var1,])\n",
    "\n",
    "table(pred.wo.top.lex$word_order)"
   ]
  },
  {
   "cell_type": "markdown",
   "metadata": {},
   "source": [
    "The lexemes and word order are plotted in spineplot sorted according to the proportion of the sequence S-ptc:"
   ]
  },
  {
   "cell_type": "code",
   "execution_count": 26,
   "metadata": {},
   "outputs": [
    {
     "data": {
      "image/png": "[encoded data removed]",
      "text/plain": [
       "Plot with title \"Proportions of word order of participle constructions\""
      ]
     },
     "metadata": {},
     "output_type": "display_data"
    }
   ],
   "source": [
    "wo.table <- table(pred.wo.top.lex$lex, pred.wo.top.lex$word_order)\n",
    "\n",
    "#Sorting table accordint to proportion of S-ptc word order\n",
    "prop.wo <- prop.table(wo.table, 1)\n",
    "wo.table <- wo.table[order(-prop.wo[,2]),]\n",
    "\n",
    "par(las = 2, cex.axis = 0.6)\n",
    "spineplot(wo.table, main=\"Proportions of word order of participle constructions\", off=1,\n",
    "         xlab = \"Lexeme\", ylab = \"Word order\", col=c(\"lightblue\",\"red\"))"
   ]
  },
  {
   "cell_type": "markdown",
   "metadata": {},
   "source": [
    "It is hardly possible to use word order to distinguish stative verbs from active verbs. On the one hand, XLH \"to be weak/sick\" occurs about 78% in the S-ptc word order hypothesized as indicative for stative verbs. On the other hand, however, presumably active verbs like BRK \"to bless\" and >RR \"to curse\" occur similarly in the S-ptc word order. "
   ]
  },
  {
   "cell_type": "code",
   "execution_count": 27,
   "metadata": {},
   "outputs": [
    {
     "data": {
      "text/plain": [
       "\n",
       "    ptc-S     S-ptc \n",
       "0.7777778 0.2222222 "
      ]
     },
     "metadata": {},
     "output_type": "display_data"
    },
    {
     "data": {
      "text/plain": [
       "\n",
       "    ptc-S     S-ptc \n",
       "0.0106383 0.9893617 "
      ]
     },
     "metadata": {},
     "output_type": "display_data"
    }
   ],
   "source": [
    "#XLH:\n",
    "XLH <- droplevels(pred.wo.top.lex[pred.wo.top.lex$lex == \"XLH\",])\n",
    "prop.table(table(XLH$word_order))\n",
    "\n",
    "#JCB:\n",
    "JCB <- droplevels(pred.wo.top.lex[pred.wo.top.lex$lex == \"JCB\",])\n",
    "prop.table(table(JCB$word_order))"
   ]
  },
  {
   "cell_type": "markdown",
   "metadata": {},
   "source": [
    "### 2.4 With finite היה\n",
    "\n",
    "Finally, the last hypothesis is to be checked. This hypothesis claims that היה + ptc. implies a durative aspect which would suggest that presumably punctual verbs will not occur - or only infrequent - in this constellation.\n",
    "\n",
    "The top-10 lexemes are addressed again and a separate column is created. In this column all occurences of היה are registred:"
   ]
  },
  {
   "cell_type": "code",
   "execution_count": 28,
   "metadata": {
    "collapsed": true
   },
   "outputs": [],
   "source": [
    "top10.hajah <- droplevels(data.top10[data.top10$tense == \"ptca\",])\n",
    "\n",
    "top10.hajah$hajah <- ifelse(top10.hajah$pred == \"HJH\", \"HJH\", \"\")"
   ]
  },
  {
   "cell_type": "code",
   "execution_count": 29,
   "metadata": {},
   "outputs": [
    {
     "data": {
      "text/plain": [
       "      \n",
       "             HJH\n",
       "  ptca 1840   59"
      ]
     },
     "metadata": {},
     "output_type": "display_data"
    }
   ],
   "source": [
    "table(top10.hajah$tense,top10.hajah$hajah)"
   ]
  },
  {
   "cell_type": "markdown",
   "metadata": {},
   "source": [
    "Only 59 instances of this constellation exist among the top-10 lexemes. An association plot is now created to compare the relative distribution of lexemes with a finite HJH:"
   ]
  },
  {
   "cell_type": "code",
   "execution_count": 30,
   "metadata": {},
   "outputs": [
    {
     "data": {
      "image/png": "[encoded data removed]",
      "text/plain": [
       "plot without title"
      ]
     },
     "metadata": {},
     "output_type": "display_data"
    }
   ],
   "source": [
    "lex.hajah <- structable(top10.hajah$lex,top10.hajah$hajah)\n",
    "\n",
    "assoc(lex.hajah, split_vertical = F, gp = shading_Friendly, legend = legend_fixed, sub = \"Mosaic plot: Lexemes and finite HJH\",\n",
    "      labeling_args = list(set_varnames = c(A = \"Lexeme\", B = \"Finite HJH\")))"
   ]
  },
  {
   "cell_type": "markdown",
   "metadata": {
    "collapsed": true
   },
   "source": [
    "As the mosaic plot shows, the relative distribution of participles with a finite HJH is relatively consistent regardless of the verb. Nevertheless, it is interesting that constellations with verbs like BW> \"to come/arrive\" and NTN \"to give\" plus finite HJH are underrepresented. These verbs may imply an inherent punctual aspect referring to the exact time of arriving and giving.\n",
    "\n",
    "Now, this tendency will be evaluated with more lexemes:"
   ]
  },
  {
   "cell_type": "code",
   "execution_count": 31,
   "metadata": {
    "collapsed": true,
    "scrolled": true
   },
   "outputs": [],
   "source": [
    "top.lex.hajah <- droplevels(data.top.lex[data.top.lex$tense == \"ptca\",])\n",
    "\n",
    "top.lex.hajah$hajah <- ifelse(top.lex.hajah$pred == \"HJH\", \"HJH\", \"\")"
   ]
  },
  {
   "cell_type": "code",
   "execution_count": 32,
   "metadata": {
    "collapsed": true
   },
   "outputs": [],
   "source": [
    "lex.hajah.table <- table(top.lex.hajah$lex,top.lex.hajah$hajah)\n",
    "\n",
    "#Ordering the table according to proportion of finite HJH\n",
    "prop.HJH <- prop.table(lex.hajah.table, 1)\n",
    "lex.hajah.table <- lex.hajah.table[order(-prop.HJH[,2]),]"
   ]
  },
  {
   "cell_type": "code",
   "execution_count": 33,
   "metadata": {},
   "outputs": [
    {
     "data": {
      "image/png": "[encoded data removed]",
      "text/plain": [
       "Plot with title \"Proportions of participles with finite HJH\""
      ]
     },
     "metadata": {},
     "output_type": "display_data"
    }
   ],
   "source": [
    "par(las = 2, cex.axis = 0.4)\n",
    "spineplot(lex.hajah.table, main=\"Proportions of participles with finite HJH\", off=1,\n",
    "         xlab = \"Lexeme\", ylab = \"Finite HJH\", col=c(\"lightblue\",\"red\"))"
   ]
  },
  {
   "cell_type": "markdown",
   "metadata": {},
   "source": [
    "The spine plot is ordered according to the relative frequency of constellations of participle + finite HJH. The results are not conclusive. For instance, MWT \"to die\" does occur with HJH, even though \"to die\" is expected to refer to a rather punctual event. On the other hand, participles like JLD \"give birth\" and MY> \"to find\" never occur with a finite HJH, and these verbs are expected to be punctual. Far from being conclusive, therefore, the plot shows interesting trends that may suggest verbal aspect - at least in conjunction with other parameters."
   ]
  },
  {
   "cell_type": "markdown",
   "metadata": {},
   "source": [
    "## 3. Cluster analysis\n",
    "\n",
    "Having identified the relative freqencies of participle type (predicative, adjectival and substantival) and occurence of finite HJH as suggestive, if not indicative, for verbal aspect, it is now time to cluster the verbs according to these parameters.\n",
    "\n",
    "The cluster analysis conducted in this notebook is inspired by the principle of \"hybrid clustering\", that is, a combination of hierarchical clustering and k-means clustering:\n",
    "\n",
    "https://www.r-bloggers.com/hybrid-hierarchical-k-means-clustering-for-optimizing-clustering-outputs-unsupervised-machine-learning/\n",
    "\n",
    "### 3.1 Preparing data\n",
    "\n",
    "#### 3.1.1 Combining proportions:\n",
    "\n",
    "To analyze the data, two extra columns are added to the data set. First, a column is added with the value HJH if a finite HJH occur in conjunction with the participle. Second, a column is added with the value \"verb\" or \"adjv\" if the participle type is either verb or adjective, respectively. All participles occuring at least 20 times are included in the analysis."
   ]
  },
  {
   "cell_type": "code",
   "execution_count": 34,
   "metadata": {
    "collapsed": true,
    "scrolled": true
   },
   "outputs": [],
   "source": [
    "ptc.data <- data.top.lex\n",
    "\n",
    "ptc.data$HJH <- ifelse(ptc.data$pred == \"HJH\" & ptc.data$tense == \"ptca\", \"HJH\", \"\")\n",
    "ptc.data$qal.type <- ifelse(ptc.data$type == \"verb\" & ptc.data$tense == \"ptca\" & ptc.data$stem == \"qal\", \"verb\", \n",
    "                            ifelse(ptc.data$type == \"adjv\" & ptc.data$tense == \"ptca\" & ptc.data$stem == \"qal\", \"adjv\", \"\"))"
   ]
  },
  {
   "cell_type": "markdown",
   "metadata": {},
   "source": [
    "Proportional tables are calculated for lexemes and HJH, and for lexemes and participle type, respectively:"
   ]
  },
  {
   "cell_type": "code",
   "execution_count": 35,
   "metadata": {},
   "outputs": [
    {
     "data": {
      "text/plain": [
       "     \n",
       "                        HJH\n",
       "  <BD 0.79310345 0.20689655\n",
       "  <BR 0.98000000 0.02000000\n",
       "  <FH 0.95275591 0.04724409\n",
       "  <LH 0.97590361 0.02409639\n",
       "  <MD 0.96610169 0.03389831\n",
       "  <ZB 1.00000000 0.00000000"
      ]
     },
     "metadata": {},
     "output_type": "display_data"
    }
   ],
   "source": [
    "prop.HJH <- prop.table(table(ptc.data$lex,ptc.data$HJH), 1)\n",
    "head(prop.HJH)"
   ]
  },
  {
   "cell_type": "code",
   "execution_count": 36,
   "metadata": {},
   "outputs": [
    {
     "data": {
      "text/plain": [
       "     \n",
       "                         adjv        verb\n",
       "  <BD 0.517241379 0.034482759 0.448275862\n",
       "  <BR 0.260000000 0.080000000 0.660000000\n",
       "  <FH 0.311023622 0.003937008 0.685039370\n",
       "  <LH 0.385542169 0.012048193 0.602409639\n",
       "  <MD 0.042372881 0.008474576 0.949152542\n",
       "  <ZB 0.857142857 0.000000000 0.142857143"
      ]
     },
     "metadata": {},
     "output_type": "display_data"
    }
   ],
   "source": [
    "prop.qal.type <- prop.table(table(ptc.data$lex,ptc.data$qal.type), 1)\n",
    "head(prop.qal.type)"
   ]
  },
  {
   "cell_type": "markdown",
   "metadata": {},
   "source": [
    "The two prop. tables are combined:"
   ]
  },
  {
   "cell_type": "code",
   "execution_count": 37,
   "metadata": {},
   "outputs": [
    {
     "data": {
      "text/html": [
       "102"
      ],
      "text/latex": [
       "102"
      ],
      "text/markdown": [
       "102"
      ],
      "text/plain": [
       "[1] 102"
      ]
     },
     "metadata": {},
     "output_type": "display_data"
    },
    {
     "data": {
      "text/html": [
       "<table>\n",
       "<thead><tr><th></th><th scope=col>HJH</th><th scope=col>verb</th><th scope=col>adjv</th></tr></thead>\n",
       "<tbody>\n",
       "\t<tr><th scope=row>&lt;BD</th><td>0.20689655 </td><td>0.4482759  </td><td>0.034482759</td></tr>\n",
       "\t<tr><th scope=row>&lt;BR</th><td>0.02000000 </td><td>0.6600000  </td><td>0.080000000</td></tr>\n",
       "\t<tr><th scope=row>&lt;FH</th><td>0.04724409 </td><td>0.6850394  </td><td>0.003937008</td></tr>\n",
       "\t<tr><th scope=row>&lt;LH</th><td>0.02409639 </td><td>0.6024096  </td><td>0.012048193</td></tr>\n",
       "\t<tr><th scope=row>&lt;MD</th><td>0.03389831 </td><td>0.9491525  </td><td>0.008474576</td></tr>\n",
       "</tbody>\n",
       "</table>\n"
      ],
      "text/latex": [
       "\\begin{tabular}{r|lll}\n",
       "  & HJH & verb & adjv\\\\\n",
       "\\hline\n",
       "\t<BD & 0.20689655  & 0.4482759   & 0.034482759\\\\\n",
       "\t<BR & 0.02000000  & 0.6600000   & 0.080000000\\\\\n",
       "\t<FH & 0.04724409  & 0.6850394   & 0.003937008\\\\\n",
       "\t<LH & 0.02409639  & 0.6024096   & 0.012048193\\\\\n",
       "\t<MD & 0.03389831  & 0.9491525   & 0.008474576\\\\\n",
       "\\end{tabular}\n"
      ],
      "text/markdown": [
       "\n",
       "| <!--/--> | HJH | verb | adjv | \n",
       "|---|---|---|---|---|\n",
       "| <BD | 0.20689655  | 0.4482759   | 0.034482759 | \n",
       "| <BR | 0.02000000  | 0.6600000   | 0.080000000 | \n",
       "| <FH | 0.04724409  | 0.6850394   | 0.003937008 | \n",
       "| <LH | 0.02409639  | 0.6024096   | 0.012048193 | \n",
       "| <MD | 0.03389831  | 0.9491525   | 0.008474576 | \n",
       "\n",
       "\n"
      ],
      "text/plain": [
       "    HJH        verb      adjv       \n",
       "<BD 0.20689655 0.4482759 0.034482759\n",
       "<BR 0.02000000 0.6600000 0.080000000\n",
       "<FH 0.04724409 0.6850394 0.003937008\n",
       "<LH 0.02409639 0.6024096 0.012048193\n",
       "<MD 0.03389831 0.9491525 0.008474576"
      ]
     },
     "metadata": {},
     "output_type": "display_data"
    }
   ],
   "source": [
    "ptc.prop <- cbind(prop.HJH[,2],prop.qal.type[,3], prop.qal.type[,2])\n",
    "colnames(ptc.prop) <- c(\"HJH\", \"verb\", \"adjv\")\n",
    "nrow(ptc.prop)\n",
    "ptc.prop[1:5,]"
   ]
  },
  {
   "cell_type": "markdown",
   "metadata": {},
   "source": [
    "#### 3.1.2 Scaling data\n",
    "\n",
    "The data are scaled to differentiate the values"
   ]
  },
  {
   "cell_type": "code",
   "execution_count": 38,
   "metadata": {
    "collapsed": true
   },
   "outputs": [],
   "source": [
    "ptc.prop <- as.data.frame(ptc.prop)\n",
    "ptc.prop1 <- scale(ptc.prop)"
   ]
  },
  {
   "cell_type": "markdown",
   "metadata": {},
   "source": [
    "### 3.2 Hierarchical clustering\n",
    "\n",
    "First, a hierarchical clustering, based on calculating the euclidean distance between the data points."
   ]
  },
  {
   "cell_type": "code",
   "execution_count": 43,
   "metadata": {},
   "outputs": [
    {
     "name": "stderr",
     "output_type": "stream",
     "text": [
      "Loading required package: ggplot2\n",
      "Welcome! Want to learn more? See two factoextra-related books at https://goo.gl/ve3WBa\n"
     ]
    }
   ],
   "source": [
    "library('devtools'); library('factoextra')"
   ]
  },
  {
   "cell_type": "code",
   "execution_count": 44,
   "metadata": {},
   "outputs": [],
   "source": [
    "res.hc <- eclust(ptc.prop1, \"hclust\", k = 4, hc_metric = \"euclidean\",\n",
    "                method = \"ward.D2\", graph = FALSE) "
   ]
  },
  {
   "cell_type": "code",
   "execution_count": 45,
   "metadata": {},
   "outputs": [
    {
     "data": {},
     "metadata": {},
     "output_type": "display_data"
    },
    {
     "data": {
      "image/png": "[encoded data removed]",
      "text/plain": [
       "plot without title"
      ]
     },
     "metadata": {},
     "output_type": "display_data"
    }
   ],
   "source": [
    "fviz_dend(res.hc, show_labels = TRUE, cex = 0.4)"
   ]
  },
  {
   "cell_type": "markdown",
   "metadata": {},
   "source": [
    "The consistency of the clustering can be validated by calculating the silhouettes of the clusters. For cluster silhouettes, see https://en.wikipedia.org/wiki/Silhouette_(clustering)"
   ]
  },
  {
   "cell_type": "code",
   "execution_count": 46,
   "metadata": {},
   "outputs": [
    {
     "name": "stdout",
     "output_type": "stream",
     "text": [
      "  cluster size ave.sil.width\n",
      "1       1    5          0.49\n",
      "2       2   37          0.50\n",
      "3       3   58          0.49\n",
      "4       4    2          0.81\n"
     ]
    },
    {
     "data": {},
     "metadata": {},
     "output_type": "display_data"
    },
    {
     "data": {
      "image/png": "[encoded data removed]",
      "text/plain": [
       "plot without title"
      ]
     },
     "metadata": {},
     "output_type": "display_data"
    }
   ],
   "source": [
    "fviz_silhouette(res.hc)"
   ]
  },
  {
   "cell_type": "code",
   "execution_count": 47,
   "metadata": {},
   "outputs": [
    {
     "data": {
      "text/html": [
       "<table>\n",
       "<thead><tr><th></th><th scope=col>cluster</th><th scope=col>neighbor</th><th scope=col>sil_width</th></tr></thead>\n",
       "<tbody>\n",
       "\t<tr><th scope=row>JR&gt;</th><td>3         </td><td>1         </td><td>-0.1224105</td></tr>\n",
       "</tbody>\n",
       "</table>\n"
      ],
      "text/latex": [
       "\\begin{tabular}{r|lll}\n",
       "  & cluster & neighbor & sil\\_width\\\\\n",
       "\\hline\n",
       "\tJR> & 3          & 1          & -0.1224105\\\\\n",
       "\\end{tabular}\n"
      ],
      "text/markdown": [
       "\n",
       "| <!--/--> | cluster | neighbor | sil_width | \n",
       "|---|\n",
       "| JR> | 3          | 1          | -0.1224105 | \n",
       "\n",
       "\n"
      ],
      "text/plain": [
       "    cluster neighbor sil_width \n",
       "JR> 3       1        -0.1224105"
      ]
     },
     "metadata": {},
     "output_type": "display_data"
    }
   ],
   "source": [
    "# Silhouette width of observation\n",
    "sil <- res.hc$silinfo$widths[, 1:3]\n",
    "# Objects with negative silhouette\n",
    "neg_sil_index <- which(sil[, 'sil_width'] < 0)\n",
    "sil[neg_sil_index, , drop = FALSE]"
   ]
  },
  {
   "cell_type": "markdown",
   "metadata": {},
   "source": [
    "### 3.4 K-means clustering\n",
    "\n",
    "The K-means clustering is conducted in three steps, using the clusters calculated by the hiearchical clustering as predefined cluster centers:\n",
    "\n",
    "1. Compute hierarchical clustering and cut the tree into k-clusters\n",
    "2. Compute the center (i.e the mean) of each cluster\n",
    "3. Compute k-means by using the set of cluster centers as the initial cluster centers\n",
    "\n",
    "#### 3.4.1 Compute hierarchical clustering and cut the tree into k-clusters\n",
    "\n",
    "First, the results of the hiearchical clustering are assigned to a variable:"
   ]
  },
  {
   "cell_type": "code",
   "execution_count": 48,
   "metadata": {},
   "outputs": [],
   "source": [
    "grp <- res.hc$cluster"
   ]
  },
  {
   "cell_type": "markdown",
   "metadata": {},
   "source": [
    "#### 3.4.2 Compute the center (i.e the mean) of each cluster\n",
    "\n",
    "Second, the centers of the clusters are found by calculating the mean of the hiearchical clustering results:"
   ]
  },
  {
   "cell_type": "code",
   "execution_count": 49,
   "metadata": {},
   "outputs": [
    {
     "data": {
      "text/html": [
       "<table>\n",
       "<thead><tr><th scope=col>Group.1</th><th scope=col>HJH</th><th scope=col>verb</th><th scope=col>adjv</th></tr></thead>\n",
       "<tbody>\n",
       "\t<tr><td>1         </td><td> 3.4404107</td><td>-0.5206781</td><td>-0.1934643</td></tr>\n",
       "\t<tr><td>2         </td><td>-0.2280156</td><td> 1.1816056</td><td>-0.1475665</td></tr>\n",
       "\t<tr><td>3         </td><td>-0.1639734</td><td>-0.6849548</td><td>-0.1034396</td></tr>\n",
       "\t<tr><td>4         </td><td> 0.3724920</td><td>-0.6943197</td><td> 6.2133902</td></tr>\n",
       "</tbody>\n",
       "</table>\n"
      ],
      "text/latex": [
       "\\begin{tabular}{r|llll}\n",
       " Group.1 & HJH & verb & adjv\\\\\n",
       "\\hline\n",
       "\t 1          &  3.4404107 & -0.5206781 & -0.1934643\\\\\n",
       "\t 2          & -0.2280156 &  1.1816056 & -0.1475665\\\\\n",
       "\t 3          & -0.1639734 & -0.6849548 & -0.1034396\\\\\n",
       "\t 4          &  0.3724920 & -0.6943197 &  6.2133902\\\\\n",
       "\\end{tabular}\n"
      ],
      "text/markdown": [
       "\n",
       "Group.1 | HJH | verb | adjv | \n",
       "|---|---|---|---|\n",
       "| 1          |  3.4404107 | -0.5206781 | -0.1934643 | \n",
       "| 2          | -0.2280156 |  1.1816056 | -0.1475665 | \n",
       "| 3          | -0.1639734 | -0.6849548 | -0.1034396 | \n",
       "| 4          |  0.3724920 | -0.6943197 |  6.2133902 | \n",
       "\n",
       "\n"
      ],
      "text/plain": [
       "  Group.1 HJH        verb       adjv      \n",
       "1 1        3.4404107 -0.5206781 -0.1934643\n",
       "2 2       -0.2280156  1.1816056 -0.1475665\n",
       "3 3       -0.1639734 -0.6849548 -0.1034396\n",
       "4 4        0.3724920 -0.6943197  6.2133902"
      ]
     },
     "metadata": {},
     "output_type": "display_data"
    }
   ],
   "source": [
    "clus.centers <- aggregate(ptc.prop1, list(grp), mean)\n",
    "clus.centers"
   ]
  },
  {
   "cell_type": "code",
   "execution_count": 50,
   "metadata": {},
   "outputs": [
    {
     "data": {
      "text/html": [
       "<table>\n",
       "<thead><tr><th scope=col>HJH</th><th scope=col>verb</th><th scope=col>adjv</th></tr></thead>\n",
       "<tbody>\n",
       "\t<tr><td> 3.4404107</td><td>-0.5206781</td><td>-0.1934643</td></tr>\n",
       "\t<tr><td>-0.2280156</td><td> 1.1816056</td><td>-0.1475665</td></tr>\n",
       "\t<tr><td>-0.1639734</td><td>-0.6849548</td><td>-0.1034396</td></tr>\n",
       "\t<tr><td> 0.3724920</td><td>-0.6943197</td><td> 6.2133902</td></tr>\n",
       "</tbody>\n",
       "</table>\n"
      ],
      "text/latex": [
       "\\begin{tabular}{r|lll}\n",
       " HJH & verb & adjv\\\\\n",
       "\\hline\n",
       "\t  3.4404107 & -0.5206781 & -0.1934643\\\\\n",
       "\t -0.2280156 &  1.1816056 & -0.1475665\\\\\n",
       "\t -0.1639734 & -0.6849548 & -0.1034396\\\\\n",
       "\t  0.3724920 & -0.6943197 &  6.2133902\\\\\n",
       "\\end{tabular}\n"
      ],
      "text/markdown": [
       "\n",
       "HJH | verb | adjv | \n",
       "|---|---|---|---|\n",
       "|  3.4404107 | -0.5206781 | -0.1934643 | \n",
       "| -0.2280156 |  1.1816056 | -0.1475665 | \n",
       "| -0.1639734 | -0.6849548 | -0.1034396 | \n",
       "|  0.3724920 | -0.6943197 |  6.2133902 | \n",
       "\n",
       "\n"
      ],
      "text/plain": [
       "  HJH        verb       adjv      \n",
       "1  3.4404107 -0.5206781 -0.1934643\n",
       "2 -0.2280156  1.1816056 -0.1475665\n",
       "3 -0.1639734 -0.6849548 -0.1034396\n",
       "4  0.3724920 -0.6943197  6.2133902"
      ]
     },
     "metadata": {},
     "output_type": "display_data"
    }
   ],
   "source": [
    "# Remove the first column\n",
    "clus.centers <- clus.centers[, -1]\n",
    "clus.centers"
   ]
  },
  {
   "cell_type": "markdown",
   "metadata": {},
   "source": [
    "#### 3.4.3 Compute k-means by using the set of cluster centers as the initial cluster centers\n",
    "\n",
    "Now, a new k-means clustering can be made, using the calculated cluster centers as predefined centers."
   ]
  },
  {
   "cell_type": "code",
   "execution_count": 53,
   "metadata": {},
   "outputs": [
    {
     "name": "stdout",
     "output_type": "stream",
     "text": [
      "  cluster size ave.sil.width\n",
      "1       1    8          0.28\n",
      "2       2   37          0.49\n",
      "3       3   55          0.56\n",
      "4       4    2          0.81\n"
     ]
    },
    {
     "data": {},
     "metadata": {},
     "output_type": "display_data"
    },
    {
     "data": {
      "image/png": "[encoded data removed]",
      "text/plain": [
       "plot without title"
      ]
     },
     "metadata": {},
     "output_type": "display_data"
    }
   ],
   "source": [
    "km.res <- eclust(ptc.prop1, \"kmeans\", k = clus.centers, graph = FALSE)\n",
    "fviz_silhouette(km.res)"
   ]
  },
  {
   "cell_type": "code",
   "execution_count": 54,
   "metadata": {},
   "outputs": [
    {
     "data": {
      "text/html": [
       "<table>\n",
       "<thead><tr><th></th><th scope=col>cluster</th><th scope=col>neighbor</th><th scope=col>sil_width</th></tr></thead>\n",
       "<tbody>\n",
       "\t<tr><th scope=row>&lt;ZR</th><td>1         </td><td>3         </td><td>-0.1107328</td></tr>\n",
       "</tbody>\n",
       "</table>\n"
      ],
      "text/latex": [
       "\\begin{tabular}{r|lll}\n",
       "  & cluster & neighbor & sil\\_width\\\\\n",
       "\\hline\n",
       "\t<ZR & 1          & 3          & -0.1107328\\\\\n",
       "\\end{tabular}\n"
      ],
      "text/markdown": [
       "\n",
       "| <!--/--> | cluster | neighbor | sil_width | \n",
       "|---|\n",
       "| <ZR | 1          | 3          | -0.1107328 | \n",
       "\n",
       "\n"
      ],
      "text/plain": [
       "    cluster neighbor sil_width \n",
       "<ZR 1       3        -0.1107328"
      ]
     },
     "metadata": {},
     "output_type": "display_data"
    }
   ],
   "source": [
    "# Silhouette width of observation\n",
    "sil <- km.res$silinfo$widths[, 1:3]\n",
    "# Objects with negative silhouette\n",
    "neg_sil_index <- which(sil[, 'sil_width'] < 0)\n",
    "sil[neg_sil_index, , drop = FALSE]"
   ]
  },
  {
   "cell_type": "markdown",
   "metadata": {},
   "source": [
    "### 3.5 Comparing the results\n",
    "\n",
    "Finally, the hiearchical clustering and the k-means clustering can be compared by cross-tabulating the data:"
   ]
  },
  {
   "cell_type": "code",
   "execution_count": 55,
   "metadata": {},
   "outputs": [
    {
     "data": {
      "text/plain": [
       "   \n",
       "     1  2  3  4\n",
       "  1  5  0  3  0\n",
       "  2  0 37  0  0\n",
       "  3  0  0 55  0\n",
       "  4  0  0  0  2"
      ]
     },
     "metadata": {},
     "output_type": "display_data"
    }
   ],
   "source": [
    "# res.hc$cluster: Initial clusters defined using hierarchical clustering\n",
    "# km.res$cluster: Final clusters defined using k-means\n",
    "table(km.res$cluster, res.hc$cluster)"
   ]
  },
  {
   "cell_type": "markdown",
   "metadata": {},
   "source": [
    "The difference can be visualized using the function fviz_dend() [in factoextra]. The labels are colored using k-means clusters:"
   ]
  },
  {
   "cell_type": "code",
   "execution_count": 56,
   "metadata": {},
   "outputs": [
    {
     "data": {},
     "metadata": {},
     "output_type": "display_data"
    },
    {
     "data": {
      "image/png": "[encoded data removed]",
      "text/plain": [
       "plot without title"
      ]
     },
     "metadata": {},
     "output_type": "display_data"
    }
   ],
   "source": [
    "fviz_dend(res.hc,\n",
    "            k_colors = c(\"red\", \"blue\", \"black\", \"green\"),\n",
    "          label_cols =  km.res$cluster[res.hc$order], cex = 0.4)"
   ]
  },
  {
   "cell_type": "markdown",
   "metadata": {},
   "source": [
    "The combined clustering methods enhance the accuracy of the clustering. Here three lexemes are relocated into more fitting clusters. The resulting clusters can be visualized as below:"
   ]
  },
  {
   "cell_type": "code",
   "execution_count": 57,
   "metadata": {},
   "outputs": [
    {
     "name": "stderr",
     "output_type": "stream",
     "text": [
      "Too few points to calculate an ellipse\n"
     ]
    },
    {
     "data": {},
     "metadata": {},
     "output_type": "display_data"
    },
    {
     "data": {
      "image/png": "[encoded data removed]",
      "text/plain": [
       "plot without title"
      ]
     },
     "metadata": {},
     "output_type": "display_data"
    }
   ],
   "source": [
    "fviz_cluster(km.res, ellipse.type = \"norm\", ellipse.level = 0.95, labelsize = 8)"
   ]
  },
  {
   "cell_type": "markdown",
   "metadata": {},
   "source": [
    "## 4. Conclusion\n",
    "\n",
    "The present notebook has investigated the syntactic variation of participial clauses. Four hypotheses have been testes of which 3 of them were sustained by the data, albeit to different degrees:\n",
    "\n",
    "1. Presumed active verbs occur more often as predicative participles than stative verbs\n",
    "2. Stative verbs occur more often as adjectival participles than predicative participles\n",
    "3. ~~Stative verbs occur more often in the sequence subject-participle than in the sequence participle-subject~~\n",
    "4. Durative and non-punctual verbs occur more often in the constellation היה + ptc. than punctual verbs.\n",
    "\n",
    "The cluster analysis also showed that the participle constellations are differentiated enough to suggest clusters. Some verbs expected to belonging to the same *Aktionsart* were also attributed to the same clusters. More parameters might even strengthen that hypothesis and allow more clear clustering."
   ]
  }
 ],
 "metadata": {
  "kernelspec": {
   "display_name": "R",
   "language": "R",
   "name": "ir"
  },
  "language_info": {
   "codemirror_mode": "r",
   "file_extension": ".r",
   "mimetype": "text/x-r-source",
   "name": "R",
   "pygments_lexer": "r",
   "version": "3.4.1"
  }
 },
 "nbformat": 4,
 "nbformat_minor": 2
}
